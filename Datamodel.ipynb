{
 "cells": [
  {
   "cell_type": "markdown",
   "id": "028233b6",
   "metadata": {},
   "source": [
    "### Bibliotecas"
   ]
  },
  {
   "cell_type": "code",
   "execution_count": null,
   "id": "3682a353",
   "metadata": {
    "vscode": {
     "languageId": "plaintext"
    }
   },
   "outputs": [],
   "source": [
    "#Para realizar paralelismo\n",
    "import swifter\n",
    "\n",
    "#Coletados Comentários\n",
    "from google_play_scraper import Sort, reviews\n",
    "\n",
    "#Armazenamento em DF\n",
    "import pandas as pd\n",
    "pd.set_option('display.max_rows', None)\n",
    "pd.set_option('display.max_columns', None)\n",
    "\n",
    "#Transformar a coluna de versões para fazer filtro melhores\n",
    "from packaging.version import parse\n",
    "\n",
    "#Tratamentos\n",
    "import re\n",
    "import emoji\n",
    "import nltk\n",
    "from nltk.corpus import stopwords\n",
    "import stanza\n",
    "\n",
    "#Sentimentos dos Comentários\n",
    "from pysentimiento import create_analyzer\n",
    "\n",
    "#Gráficos\n",
    "import matplotlib.pyplot as plt\n",
    "import seaborn as sns\n",
    "import plotly.graph_objects as go\n",
    "from plotly.subplots import make_subplots\n",
    "import plotly.express as px"
   ]
  }
 ],
 "metadata": {
  "language_info": {
   "name": "python"
  }
 },
 "nbformat": 4,
 "nbformat_minor": 5
}
